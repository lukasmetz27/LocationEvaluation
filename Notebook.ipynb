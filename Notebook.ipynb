{
 "cells": [
  {
   "cell_type": "code",
   "execution_count": 1,
   "id": "166b6eaf",
   "metadata": {},
   "outputs": [],
   "source": [
    "import requests\n",
    "import pandas as pd\n",
    "import io"
   ]
  },
  {
   "cell_type": "code",
   "execution_count": 2,
   "id": "fa856baf",
   "metadata": {},
   "outputs": [],
   "source": [
    "BASE_URL = 'https://www-genesis.destatis.de/genesisWS/rest/2020/'\n",
    "TOKEN = \"5c88a4e4308c45a6880f622053f7c41f\" \n",
    "\n",
    "headers = {\n",
    "'Content-Type': 'application/x-www-form-urlencoded',\n",
    "'username': TOKEN,\n",
    "'password': \"\"\n",
    "}\n",
    "langPref = \"de\""
   ]
  },
  {
   "cell_type": "markdown",
   "id": "f9a8e7d9",
   "metadata": {},
   "source": [
    "### Test if the connection works"
   ]
  },
  {
   "cell_type": "code",
   "execution_count": 3,
   "id": "4c65f767",
   "metadata": {},
   "outputs": [
    {
     "data": {
      "text/plain": [
       "'{\"Status\":\"Sie wurden erfolgreich an- und abgemeldet! Bei mehr als 3 parallelen Requests wurden länger als 15 Minuten laufende Requests beendet.\",\"Username\":\"5c88a4e4308c45a6880f622053f7c41f\"}'"
      ]
     },
     "execution_count": 3,
     "metadata": {},
     "output_type": "execute_result"
    }
   ],
   "source": [
    "hello = requests.post(BASE_URL + 'helloworld/logincheck',\n",
    "headers = headers,\n",
    "data = {\n",
    "'language': langPref\n",
    "})\n",
    "\n",
    "# check the username -> it should not be guest\n",
    "hello.text[:]"
   ]
  },
  {
   "cell_type": "code",
   "execution_count": null,
   "id": "cefceb3b",
   "metadata": {},
   "outputs": [
    {
     "name": "stdout",
     "output_type": "stream",
     "text": [
      "{\"Ident\":{\"Service\":\"data\",\"Method\":\"table\"},\"Status\":{\"Code\":0,\"Content\":\"erfolgreich\",\"Type\":\"Information\"},\"Parameter\n"
     ]
    }
   ],
   "source": [
    "response = requests.post(BASE_URL + 'data/table',\n",
    "headers = headers,\n",
    "data = {\n",
    "'name': '12411-0005',\n",
    "'format' : 'json',\n",
    "'language': 'de'\n",
    "})\n",
    "# prüfe, ob die Antwort Text, binär oder leer ist\n",
    "print(response.text[0:120])\n",
    "\n"
   ]
  },
  {
   "cell_type": "code",
   "execution_count": null,
   "id": "015dad66",
   "metadata": {},
   "outputs": [
    {
     "name": "stdout",
     "output_type": "stream",
     "text": [
      "[]\n"
     ]
    }
   ],
   "source": [
    "data = response.json()\n",
    "data[\"Object\"][\"Content\"]"
   ]
  },
  {
   "cell_type": "code",
   "execution_count": null,
   "id": "5318e705",
   "metadata": {},
   "outputs": [
    {
     "name": "stdout",
     "output_type": "stream",
     "text": [
      "   Altersgruppe  31.12.2020  31.12.2021  31.12.2022  31.12.2023  31.12.2024\n",
      "0  unter 1 Jahr    769380.0    791254.0    724711.0    689834.0    673380.0\n",
      "1     1-Jährige    783593.0    780795.0    786020.0    739396.0    700940.0\n",
      "2     2-Jährige    798366.0    789145.0    773830.0    793110.0    744162.0\n",
      "3     3-Jährige    806198.0    803334.0    782423.0    780001.0    797030.0\n",
      "4     4-Jährige    811601.0    810805.0    797764.0    789018.0    783616.0\n"
     ]
    }
   ],
   "source": [
    "# csv_text ist dein Output aus data[\"Object\"][\"Content\"]\n",
    "csv_text = data[\"Object\"][\"Content\"]\n",
    "\n",
    "# Die CSV hat ein paar einleitende Zeilen (Tabelle:..., Bevölkerung:...), wir überspringen sie\n",
    "# In diesem Beispiel skiprows=5 funktioniert meistens gut\n",
    "df = pd.read_csv(io.StringIO(csv_text), sep=';', skiprows=6, engine='python')\n",
    "\n",
    "# Spalten umbenennen: erste Spalte enthält Altersgruppen\n",
    "df.rename(columns={df.columns[0]: 'Altersgruppe'}, inplace=True)\n",
    "\n",
    "# Optional: alle Werte in int umwandeln\n",
    "for col in df.columns[1:]:\n",
    "    df[col] = pd.to_numeric(df[col], errors='coerce')\n",
    "\n",
    "# Ergebnis prüfen\n",
    "print(df.head())"
   ]
  },
  {
   "cell_type": "code",
   "execution_count": 78,
   "id": "105c14c9",
   "metadata": {},
   "outputs": [],
   "source": [
    "df = df.dropna()"
   ]
  },
  {
   "cell_type": "code",
   "execution_count": 79,
   "id": "8f8afe63",
   "metadata": {},
   "outputs": [
    {
     "data": {
      "text/html": [
       "<div>\n",
       "<style scoped>\n",
       "    .dataframe tbody tr th:only-of-type {\n",
       "        vertical-align: middle;\n",
       "    }\n",
       "\n",
       "    .dataframe tbody tr th {\n",
       "        vertical-align: top;\n",
       "    }\n",
       "\n",
       "    .dataframe thead th {\n",
       "        text-align: right;\n",
       "    }\n",
       "</style>\n",
       "<table border=\"1\" class=\"dataframe\">\n",
       "  <thead>\n",
       "    <tr style=\"text-align: right;\">\n",
       "      <th></th>\n",
       "      <th>Altersgruppe</th>\n",
       "      <th>31.12.2020</th>\n",
       "      <th>31.12.2021</th>\n",
       "      <th>31.12.2022</th>\n",
       "      <th>31.12.2023</th>\n",
       "      <th>31.12.2024</th>\n",
       "    </tr>\n",
       "  </thead>\n",
       "  <tbody>\n",
       "    <tr>\n",
       "      <th>0</th>\n",
       "      <td>unter 1 Jahr</td>\n",
       "      <td>769380.0</td>\n",
       "      <td>791254.0</td>\n",
       "      <td>724711.0</td>\n",
       "      <td>689834.0</td>\n",
       "      <td>673380.0</td>\n",
       "    </tr>\n",
       "    <tr>\n",
       "      <th>1</th>\n",
       "      <td>1-Jährige</td>\n",
       "      <td>783593.0</td>\n",
       "      <td>780795.0</td>\n",
       "      <td>786020.0</td>\n",
       "      <td>739396.0</td>\n",
       "      <td>700940.0</td>\n",
       "    </tr>\n",
       "    <tr>\n",
       "      <th>2</th>\n",
       "      <td>2-Jährige</td>\n",
       "      <td>798366.0</td>\n",
       "      <td>789145.0</td>\n",
       "      <td>773830.0</td>\n",
       "      <td>793110.0</td>\n",
       "      <td>744162.0</td>\n",
       "    </tr>\n",
       "    <tr>\n",
       "      <th>3</th>\n",
       "      <td>3-Jährige</td>\n",
       "      <td>806198.0</td>\n",
       "      <td>803334.0</td>\n",
       "      <td>782423.0</td>\n",
       "      <td>780001.0</td>\n",
       "      <td>797030.0</td>\n",
       "    </tr>\n",
       "    <tr>\n",
       "      <th>4</th>\n",
       "      <td>4-Jährige</td>\n",
       "      <td>811601.0</td>\n",
       "      <td>810805.0</td>\n",
       "      <td>797764.0</td>\n",
       "      <td>789018.0</td>\n",
       "      <td>783616.0</td>\n",
       "    </tr>\n",
       "    <tr>\n",
       "      <th>...</th>\n",
       "      <td>...</td>\n",
       "      <td>...</td>\n",
       "      <td>...</td>\n",
       "      <td>...</td>\n",
       "      <td>...</td>\n",
       "      <td>...</td>\n",
       "    </tr>\n",
       "    <tr>\n",
       "      <th>82</th>\n",
       "      <td>82-Jährige</td>\n",
       "      <td>687458.0</td>\n",
       "      <td>732760.0</td>\n",
       "      <td>722205.0</td>\n",
       "      <td>681158.0</td>\n",
       "      <td>553001.0</td>\n",
       "    </tr>\n",
       "    <tr>\n",
       "      <th>83</th>\n",
       "      <td>83-Jährige</td>\n",
       "      <td>604464.0</td>\n",
       "      <td>644569.0</td>\n",
       "      <td>675973.0</td>\n",
       "      <td>678282.0</td>\n",
       "      <td>641590.0</td>\n",
       "    </tr>\n",
       "    <tr>\n",
       "      <th>84</th>\n",
       "      <td>84-Jährige</td>\n",
       "      <td>544669.0</td>\n",
       "      <td>561973.0</td>\n",
       "      <td>589512.0</td>\n",
       "      <td>630184.0</td>\n",
       "      <td>633529.0</td>\n",
       "    </tr>\n",
       "    <tr>\n",
       "      <th>85</th>\n",
       "      <td>85 Jahre und mehr</td>\n",
       "      <td>2505932.0</td>\n",
       "      <td>2625444.0</td>\n",
       "      <td>2699436.0</td>\n",
       "      <td>2844213.0</td>\n",
       "      <td>3025803.0</td>\n",
       "    </tr>\n",
       "    <tr>\n",
       "      <th>86</th>\n",
       "      <td>Insgesamt</td>\n",
       "      <td>83155031.0</td>\n",
       "      <td>83237124.0</td>\n",
       "      <td>83118501.0</td>\n",
       "      <td>83456045.0</td>\n",
       "      <td>83577140.0</td>\n",
       "    </tr>\n",
       "  </tbody>\n",
       "</table>\n",
       "<p>87 rows × 6 columns</p>\n",
       "</div>"
      ],
      "text/plain": [
       "         Altersgruppe  31.12.2020  31.12.2021  31.12.2022  31.12.2023  \\\n",
       "0        unter 1 Jahr    769380.0    791254.0    724711.0    689834.0   \n",
       "1           1-Jährige    783593.0    780795.0    786020.0    739396.0   \n",
       "2           2-Jährige    798366.0    789145.0    773830.0    793110.0   \n",
       "3           3-Jährige    806198.0    803334.0    782423.0    780001.0   \n",
       "4           4-Jährige    811601.0    810805.0    797764.0    789018.0   \n",
       "..                ...         ...         ...         ...         ...   \n",
       "82         82-Jährige    687458.0    732760.0    722205.0    681158.0   \n",
       "83         83-Jährige    604464.0    644569.0    675973.0    678282.0   \n",
       "84         84-Jährige    544669.0    561973.0    589512.0    630184.0   \n",
       "85  85 Jahre und mehr   2505932.0   2625444.0   2699436.0   2844213.0   \n",
       "86          Insgesamt  83155031.0  83237124.0  83118501.0  83456045.0   \n",
       "\n",
       "    31.12.2024  \n",
       "0     673380.0  \n",
       "1     700940.0  \n",
       "2     744162.0  \n",
       "3     797030.0  \n",
       "4     783616.0  \n",
       "..         ...  \n",
       "82    553001.0  \n",
       "83    641590.0  \n",
       "84    633529.0  \n",
       "85   3025803.0  \n",
       "86  83577140.0  \n",
       "\n",
       "[87 rows x 6 columns]"
      ]
     },
     "execution_count": 79,
     "metadata": {},
     "output_type": "execute_result"
    }
   ],
   "source": [
    "df"
   ]
  },
  {
   "cell_type": "code",
   "execution_count": null,
   "id": "cb4843e1",
   "metadata": {},
   "outputs": [],
   "source": []
  },
  {
   "cell_type": "code",
   "execution_count": null,
   "id": "bfb0d821",
   "metadata": {},
   "outputs": [],
   "source": []
  },
  {
   "cell_type": "markdown",
   "id": "11e6c827",
   "metadata": {},
   "source": [
    "### Anpassung Bundesland"
   ]
  },
  {
   "cell_type": "code",
   "execution_count": 130,
   "id": "3d903ef2",
   "metadata": {},
   "outputs": [],
   "source": [
    "BASE_URL = 'https://www-genesis.destatis.de/genesisWS/rest/2020/'\n",
    "TOKEN = \"5c88a4e4308c45a6880f622053f7c41f\" \n",
    "\n",
    "headers = {\n",
    "'Content-Type': 'application/x-www-form-urlencoded',\n",
    "'username': TOKEN,\n",
    "'password': \"\"\n",
    "}\n",
    "langPref = \"de\""
   ]
  },
  {
   "cell_type": "code",
   "execution_count": 131,
   "id": "afdab70c",
   "metadata": {},
   "outputs": [
    {
     "name": "stdout",
     "output_type": "stream",
     "text": [
      "{\"Ident\":{\"Service\":\"data\",\"Method\":\"table\"},\"Status\":{\"Code\":22,\"Content\":\"erfolgreich (Mindestens ein Parameter enthäl\n"
     ]
    }
   ],
   "source": [
    "response = requests.post(BASE_URL + 'data/table',\n",
    "headers = headers,\n",
    "data = {\n",
    "'name': '12411-0010',\n",
    "'format' : 'json',\n",
    "'language': 'de',\n",
    "\"regionalvariable\": \"GEMEINDE\",\n",
    "\"regionalkey\": \"06412000\",\n",
    "\"startyear\": \"2010\",\n",
    "\"endyear\": \"2024\"\n",
    "})\n",
    "# prüfe, ob die Antwort Text, binär oder leer ist\n",
    "print(response.text[0:120])\n",
    "\n"
   ]
  },
  {
   "cell_type": "code",
   "execution_count": 132,
   "id": "b4a9242e",
   "metadata": {},
   "outputs": [
    {
     "data": {
      "text/plain": [
       "'Tabelle: 12411-0010\\nBevölkerung: Bundesländer, Stichtag;;;;;;;;;;;;;;;\\nFortschreibung des Bevölkerungsstandes;;;;;;;;;;;;;;;\\nBevölkerungsstand (Anzahl);;;;;;;;;;;;;;;\\n;Stichtag;Stichtag;Stichtag;Stichtag;Stichtag;Stichtag;Stichtag;Stichtag;Stichtag;Stichtag;Stichtag;Stichtag;Stichtag;Stichtag;Stichtag\\n;31.12.2010;31.12.2011;31.12.2012;31.12.2013;31.12.2014;31.12.2015;31.12.2016;31.12.2017;31.12.2018;31.12.2019;31.12.2020;31.12.2021;31.12.2022;31.12.2023;31.12.2024\\nBaden-Württemberg;10753880;10512441;10569111;10631278;10716644;10879618;10951893;11023425;11069533;11100394;11103043;11124642;11167721;11230740;11245898\\nBayern;12538696;12443372;12519571;12604244;12691568;12843514;12930751;12997204;13076721;13124737;13140183;13176989;13105221;13176426;13248928\\nBerlin;3460725;3326002;3375222;3421829;3469849;3520031;3574830;3613495;3644826;3669491;3664088;3677472;3632853;3662381;3685265\\nBrandenburg;2503273;2453180;2449511;2449193;2457872;2484826;2494648;2504040;2511917;2521893;2531071;2537868;2545159;2554464;2556747\\nBremen;660706;652182;654774;657391;661888;671489;678753;681032;682986;681202;680130;676463;695758;702655;704881\\nHamburg;1786448;1718187;1734272;1746342;1762791;1787408;1810438;1830584;1841179;1847253;1852478;1853935;1832675;1851596;1862565\\nHessen;6067021;5993771;6016481;6045425;6093888;6176172;6213088;6243262;6265809;6288080;6293154;6295017;6236933;6267546;6280793\\nMecklenburg-Vorpommern;1642327;1606899;1600327;1596505;1599138;1612362;1610674;1611119;1609675;1608138;1610774;1611160;1576049;1578041;1573597\\nNiedersachsen;7918293;7774253;7778995;7790559;7826739;7926599;7945685;7962775;7982448;7993608;8003421;8027031;7982947;8008135;8004489\\nNordrhein-Westfalen;17845154;17544938;17554329;17571856;17638098;17865516;17890100;17912134;17932651;17947221;17925570;17924591;17964420;18017520;18034454\\nRheinland-Pfalz;4003745;3990033;3990278;3994366;4011582;4052803;4066053;4073679;4084844;4093903;4098391;4106485;4108555;4125163;4129569\\nSaarland;1017567;997855;994287;990718;989035;995597;996651;994187;990509;986887;983991;982348;1011891;1014047;1012141\\nSachsen;4149477;4054182;4050204;4046385;4055274;4084851;4081783;4081308;4077937;4071971;4056941;4043002;4049967;4054689;4042422\\nSachsen-Anhalt;2335006;2276736;2259393;2244577;2235548;2245470;2236252;2223081;2208321;2194782;2180684;2169253;2150239;2144570;2135597\\nSchleswig-Holstein;2834259;2802266;2806531;2815955;2830864;2858714;2881926;2889821;2896712;2903773;2910875;2922005;2939283;2953202;2959517\\nThüringen;2235025;2181603;2170460;2160840;2156759;2170714;2158128;2151205;2143145;2133378;2120237;2108863;2118830;2114870;2100277\\n__________\\n\"Berlin: bis 1989 nur Berlin-West.\\nNeue Länder ab 1990.\\n\\nAb 2011: Ergebnisse auf Grundlage des Zensus 2011.\\nAb 2022: Ergebnisse auf Grundlage des Zensus 2022.\"\\n© Statistisches Bundesamt (Destatis), 2025\\nStand: 31.10.2025 / 20:25:20\\n'"
      ]
     },
     "execution_count": 132,
     "metadata": {},
     "output_type": "execute_result"
    }
   ],
   "source": [
    "data = response.json()\n",
    "data[\"Object\"][\"Content\"]"
   ]
  },
  {
   "cell_type": "code",
   "execution_count": 133,
   "id": "cae466b1",
   "metadata": {},
   "outputs": [],
   "source": [
    "# csv_text ist dein Output aus data[\"Object\"][\"Content\"]\n",
    "csv_text = data[\"Object\"][\"Content\"]\n",
    "\n",
    "df = pd.read_csv(io.StringIO(csv_text), sep=';', skiprows=5, engine='python')\n",
    "\n",
    "# Alle Spalten außer der ersten (Bundesland) transformieren\n",
    "df.columns = [col[-4:] if col.startswith(\"31.12.\") else \"Bundesland\" for col in df.columns]\n",
    "df = df.dropna()\n",
    "\n",
    "df = df.melt(id_vars=\"Bundesland\", var_name=\"Jahr\",value_name=\"Bevölkerung\")"
   ]
  },
  {
   "cell_type": "code",
   "execution_count": 134,
   "id": "df145be5",
   "metadata": {},
   "outputs": [],
   "source": [
    "# Input variable \n",
    "bl = \"Sachsen\""
   ]
  },
  {
   "cell_type": "code",
   "execution_count": 135,
   "id": "30ba5993",
   "metadata": {},
   "outputs": [
    {
     "name": "stderr",
     "output_type": "stream",
     "text": [
      "/var/folders/4c/4pm4bwz11292qrczgwq1dmfw0000gn/T/ipykernel_2238/2689466114.py:3: SettingWithCopyWarning: \n",
      "A value is trying to be set on a copy of a slice from a DataFrame.\n",
      "Try using .loc[row_indexer,col_indexer] = value instead\n",
      "\n",
      "See the caveats in the documentation: https://pandas.pydata.org/pandas-docs/stable/user_guide/indexing.html#returning-a-view-versus-a-copy\n",
      "  df1[\"Bevölkerung_last_year\"] = df1[\"Bevölkerung\"].shift(1)\n",
      "/var/folders/4c/4pm4bwz11292qrczgwq1dmfw0000gn/T/ipykernel_2238/2689466114.py:4: SettingWithCopyWarning: \n",
      "A value is trying to be set on a copy of a slice from a DataFrame.\n",
      "Try using .loc[row_indexer,col_indexer] = value instead\n",
      "\n",
      "See the caveats in the documentation: https://pandas.pydata.org/pandas-docs/stable/user_guide/indexing.html#returning-a-view-versus-a-copy\n",
      "  df1[\"Bevölkerung_5_year\"] = df1[\"Bevölkerung\"].shift(5)\n",
      "/var/folders/4c/4pm4bwz11292qrczgwq1dmfw0000gn/T/ipykernel_2238/2689466114.py:7: SettingWithCopyWarning: \n",
      "A value is trying to be set on a copy of a slice from a DataFrame.\n",
      "Try using .loc[row_indexer,col_indexer] = value instead\n",
      "\n",
      "See the caveats in the documentation: https://pandas.pydata.org/pandas-docs/stable/user_guide/indexing.html#returning-a-view-versus-a-copy\n",
      "  df1[\"Perc_Change1\"] = (df1[\"Bevölkerung\"] / df1[\"Bevölkerung_last_year\"] -1)*100\n",
      "/var/folders/4c/4pm4bwz11292qrczgwq1dmfw0000gn/T/ipykernel_2238/2689466114.py:8: SettingWithCopyWarning: \n",
      "A value is trying to be set on a copy of a slice from a DataFrame.\n",
      "Try using .loc[row_indexer,col_indexer] = value instead\n",
      "\n",
      "See the caveats in the documentation: https://pandas.pydata.org/pandas-docs/stable/user_guide/indexing.html#returning-a-view-versus-a-copy\n",
      "  df1[\"Perc_Change5\"] = (df1[\"Bevölkerung\"] / df1[\"Bevölkerung_5_year\"] -1)*100\n",
      "/var/folders/4c/4pm4bwz11292qrczgwq1dmfw0000gn/T/ipykernel_2238/2689466114.py:10: SettingWithCopyWarning: \n",
      "A value is trying to be set on a copy of a slice from a DataFrame.\n",
      "Try using .loc[row_indexer,col_indexer] = value instead\n",
      "\n",
      "See the caveats in the documentation: https://pandas.pydata.org/pandas-docs/stable/user_guide/indexing.html#returning-a-view-versus-a-copy\n",
      "  df1[\"Perc_Change1\"] = df1[\"Perc_Change1\"].round(2)\n",
      "/var/folders/4c/4pm4bwz11292qrczgwq1dmfw0000gn/T/ipykernel_2238/2689466114.py:11: SettingWithCopyWarning: \n",
      "A value is trying to be set on a copy of a slice from a DataFrame.\n",
      "Try using .loc[row_indexer,col_indexer] = value instead\n",
      "\n",
      "See the caveats in the documentation: https://pandas.pydata.org/pandas-docs/stable/user_guide/indexing.html#returning-a-view-versus-a-copy\n",
      "  df1[\"Perc_Change5\"] = df1[\"Perc_Change5\"].round(2)\n"
     ]
    }
   ],
   "source": [
    "df1 = df[df[\"Bundesland\"] == bl]\n",
    "\n",
    "df1[\"Bevölkerung_last_year\"] = df1[\"Bevölkerung\"].shift(1)\n",
    "df1[\"Bevölkerung_5_year\"] = df1[\"Bevölkerung\"].shift(5)\n",
    "\n",
    "# percentage development\n",
    "df1[\"Perc_Change1\"] = (df1[\"Bevölkerung\"] / df1[\"Bevölkerung_last_year\"] -1)*100\n",
    "df1[\"Perc_Change5\"] = (df1[\"Bevölkerung\"] / df1[\"Bevölkerung_5_year\"] -1)*100\n",
    "\n",
    "df1[\"Perc_Change1\"] = df1[\"Perc_Change1\"].round(2)\n",
    "df1[\"Perc_Change5\"] = df1[\"Perc_Change5\"].round(2)"
   ]
  },
  {
   "cell_type": "code",
   "execution_count": null,
   "id": "313962fa",
   "metadata": {},
   "outputs": [],
   "source": []
  },
  {
   "cell_type": "markdown",
   "id": "dd534e75",
   "metadata": {},
   "source": [
    "### Arbeitslosenquote"
   ]
  },
  {
   "cell_type": "code",
   "execution_count": 137,
   "id": "8603a68b",
   "metadata": {},
   "outputs": [],
   "source": [
    "BASE_URL = 'https://www-genesis.destatis.de/genesisWS/rest/2020/'\n",
    "TOKEN = \"5c88a4e4308c45a6880f622053f7c41f\" \n",
    "\n",
    "headers = {\n",
    "'Content-Type': 'application/x-www-form-urlencoded',\n",
    "'username': TOKEN,\n",
    "'password': \"\"\n",
    "}\n",
    "langPref = \"de\""
   ]
  },
  {
   "cell_type": "code",
   "execution_count": 167,
   "id": "a4741eea",
   "metadata": {},
   "outputs": [
    {
     "name": "stdout",
     "output_type": "stream",
     "text": [
      "{\"Ident\":{\"Service\":\"data\",\"Method\":\"table\"},\"Status\":{\"Code\":0,\"Content\":\"erfolgreich\",\"Type\":\"Information\"},\"Parameter\n"
     ]
    }
   ],
   "source": [
    "response = requests.post(BASE_URL + 'data/table',\n",
    "headers = headers,\n",
    "data = {\n",
    "'name': '13211-0007',\n",
    "'format' : 'json',\n",
    "'language': 'de',\n",
    "\"startyear\": \"2010\",\n",
    "\"endyear\": \"2024\"\n",
    "})\n",
    "# prüfe, ob die Antwort Text, binär oder leer ist\n",
    "print(response.text[0:120])\n",
    "\n"
   ]
  },
  {
   "cell_type": "code",
   "execution_count": 174,
   "id": "02fcaf45",
   "metadata": {},
   "outputs": [
    {
     "data": {
      "text/plain": [
       "'Tabelle: 13211-0007\\nArbeitslose, Arbeitslosenquoten, Gemeldete Arbeitsstellen:;;;;;\\nBundesländer, Jahre;;;;;\\nArbeitsmarktstatistik der Bundesagentur für Arbeit;;;;;\\n;;Arbeitslose;Arbeitslosenquote aller zivilen Erwerbspersonen;Arbeitslosenquote d. abhängigen ziv. Erwerbspers.;Gemeldete Arbeitsstellen\\n;;Anzahl;Prozent;Prozent;Anzahl\\nBaden-Württemberg;2010;272656;4,9;5,4;50969\\nBaden-Württemberg;2011;226918;4,0;4,5;73278\\nBaden-Württemberg;2012;222202;3,9;4,4;74844\\nBaden-Württemberg;2013;233956;4,1;4,5;63506\\nBaden-Württemberg;2014;230372;4,0;4,4;71974\\nBaden-Württemberg;2015;227098;3,8;4,3;82009\\nBaden-Württemberg;2016;226421;3,8;4,2;92333\\nBaden-Württemberg;2017;212837;3,5;3,9;102096\\nBaden-Württemberg;2018;195128;3,2;3,5;112360\\nBaden-Württemberg;2019;196950;3,2;3,5;106185\\nBaden-Württemberg;2020;259940;4,1;4,5;72963\\nBaden-Württemberg;2021;247774;3,9;4,3;88314\\nBaden-Württemberg;2022;223119;3,5;3,9;111188\\nBaden-Württemberg;2023;245466;3,9;4,2;95715\\nBaden-Württemberg;2024;269990;4,2;4,6;82697\\nBayern;2010;299448;4,5;5,1;50336\\nBayern;2011;254359;3,8;4,3;67074\\nBayern;2012;248860;3,7;4,2;70082\\nBayern;2013;264532;3,8;4,4;64412\\nBayern;2014;264603;3,8;4,3;73092\\nBayern;2015;256527;3,6;4,1;87784\\nBayern;2016;250623;3,5;3,9;103907\\nBayern;2017;231353;3,2;3,6;118912\\nBayern;2018;214017;2,9;3,2;129853\\nBayern;2019;211965;2,8;3,2;125827\\nBayern;2020;275075;3,6;4,0;100066\\nBayern;2021;262186;3,5;3,8;119158\\nBayern;2022;235851;3,1;3,4;154634\\nBayern;2023;257096;3,4;3,7;149006\\nBayern;2024;285234;3,7;4,0;132035\\nBerlin;2010;231221;13,6;15,8;9858\\nBerlin;2011;228838;13,3;15,5;13389\\nBerlin;2012;215348;12,3;14,5;18583\\nBerlin;2013;210093;11,7;13,9;17997\\nBerlin;2014;202927;11,1;13,2;20279\\nBerlin;2015;194812;10,7;12,6;22493\\nBerlin;2016;181018;9,8;11,5;25506\\nBerlin;2017;168991;9,0;10,5;24793\\nBerlin;2018;156230;8,1;9,5;25318\\nBerlin;2019;152565;7,8;9,1;27602\\nBerlin;2020;192644;9,7;11,2;20842\\nBerlin;2021;198401;9,8;11,3;18839\\nBerlin;2022;179327;8,8;10,1;21308\\nBerlin;2023;187930;9,1;10,4;19613\\nBerlin;2024;203242;9,7;11,0;21198\\nBrandenburg;2010;148834;11,1;12,4;8504\\nBrandenburg;2011;143190;10,7;11,9;10201\\nBrandenburg;2012;136125;10,2;11,3;11168\\nBrandenburg;2013;132329;9,9;11,0;10937\\nBrandenburg;2014;124628;9,4;10,5;12158\\nBrandenburg;2015;114873;8,7;9,7;15416\\nBrandenburg;2016;105555;8,0;8,9;19400\\nBrandenburg;2017;92648;7,0;7,8;20855\\nBrandenburg;2018;83669;6,3;7,0;23490\\nBrandenburg;2019;76888;5,8;6,4;23534\\nBrandenburg;2020;82491;6,2;6,8;21217\\nBrandenburg;2021;78463;5,9;6,5;23436\\nBrandenburg;2022;74242;5,6;6,1;27974\\nBrandenburg;2023;78996;5,9;6,5;25294\\nBrandenburg;2024;82795;6,1;6,7;23913\\nBremen;2010;38705;12,0;13,2;3718\\nBremen;2011;37455;11,6;12,7;4672\\nBremen;2012;36828;11,2;12,3;4819\\nBremen;2013;37198;11,1;12,3;4331\\nBremen;2014;37091;10,9;12,2;4742\\nBremen;2015;37355;10,9;12,1;5452\\nBremen;2016;36393;10,5;11,6;6382\\nBremen;2017;35687;10,2;11,2;6510\\nBremen;2018;34904;9,8;10,8;7169\\nBremen;2019;35702;9,9;10,9;7425\\nBremen;2020;40822;11,2;12,2;5844\\nBremen;2021;39292;10,7;11,7;6510\\nBremen;2022;37214;10,2;11,0;8858\\nBremen;2023;39050;10,6;11,5;9028\\nBremen;2024;41116;11,1;11,9;7897\\nHamburg;2010;75486;8,2;9,5;14031\\nHamburg;2011;72448;7,8;9,0;15329\\nHamburg;2012;70434;7,5;8,6;16134\\nHamburg;2013;71560;7,4;8,6;14127\\nHamburg;2014;73663;7,6;8,7;14027\\nHamburg;2015;73291;7,4;8,5;15197\\nHamburg;2016;70666;7,1;8,1;15663\\nHamburg;2017;69248;6,8;7,7;16614\\nHamburg;2018;65589;6,3;7,2;17757\\nHamburg;2019;64774;6,1;7,0;16067\\nHamburg;2020;80677;7,6;8,5;9985\\nHamburg;2021;80395;7,5;8,3;11056\\nHamburg;2022;73800;6,8;7,6;12789\\nHamburg;2023;80806;7,4;8,2;11336\\nHamburg;2024;88471;8,0;8,8;13802\\nHessen;2010;197982;6,4;7,2;30685\\nHessen;2011;182583;5,9;6,6;37964\\nHessen;2012;178329;5,7;6,4;35542\\nHessen;2013;185612;5,8;6,6;32338\\nHessen;2014;184378;5,7;6,5;35734\\nHessen;2015;177944;5,5;6,1;42549\\nHessen;2016;172826;5,3;5,9;48688\\nHessen;2017;166287;5,0;5,6;52282\\nHessen;2018;154337;4,6;5,1;55691\\nHessen;2019;149812;4,4;4,9;54618\\nHessen;2020;184955;5,4;6,0;41943\\nHessen;2021;178086;5,2;5,7;45798\\nHessen;2022;164492;4,8;5,2;53282\\nHessen;2023;181344;5,2;5,7;48520\\nHessen;2024;194912;5,5;6,1;47992\\nMecklenburg-Vorpommern;2010;109865;12,7;14,0;6572\\nMecklenburg-Vorpommern;2011;107543;12,5;13,8;8104\\nMecklenburg-Vorpommern;2012;101893;12,0;13,2;9063\\nMecklenburg-Vorpommern;2013;98952;11,7;12,9;9292\\nMecklenburg-Vorpommern;2014;93067;11,2;12,2;10056\\nMecklenburg-Vorpommern;2015;86095;10,4;11,3;11438\\nMecklenburg-Vorpommern;2016;80389;9,7;10,6;12974\\nMecklenburg-Vorpommern;2017;70982;8,6;9,4;14590\\nMecklenburg-Vorpommern;2018;64993;7,9;8,6;16013\\nMecklenburg-Vorpommern;2019;58485;7,1;7,7;17557\\nMecklenburg-Vorpommern;2020;63850;7,8;8,4;15814\\nMecklenburg-Vorpommern;2021;62410;7,6;8,3;17324\\nMecklenburg-Vorpommern;2022;59571;7,3;7,9;19888\\nMecklenburg-Vorpommern;2023;63191;7,7;8,4;18162\\nMecklenburg-Vorpommern;2024;64944;7,9;8,6;16310\\nNiedersachsen;2010;298652;7,5;8,3;35095\\nNiedersachsen;2011;274707;6,9;7,6;45695\\nNiedersachsen;2012;264543;6,6;7,3;47347\\nNiedersachsen;2013;269207;6,6;7,3;43836\\nNiedersachsen;2014;267624;6,5;7,2;48325\\nNiedersachsen;2015;256434;6,1;6,8;55325\\nNiedersachsen;2016;252574;6,0;6,6;62703\\nNiedersachsen;2017;244260;5,8;6,3;68435\\nNiedersachsen;2018;227834;5,3;5,8;77015\\nNiedersachsen;2019;218123;5,0;5,5;75101\\nNiedersachsen;2020;251377;5,8;6,3;62346\\nNiedersachsen;2021;243021;5,5;6,0;77484\\nNiedersachsen;2022;230553;5,3;5,7;87635\\nNiedersachsen;2023;251873;5,7;6,2;77245\\nNiedersachsen;2024;263090;5,9;6,4;69296\\nNordrhein-Westfalen;2010;779582;8,7;9,6;73643\\nNordrhein-Westfalen;2011;728797;8,1;8,9;97156\\nNordrhein-Westfalen;2012;733307;8,1;8,9;98028\\nNordrhein-Westfalen;2013;762784;8,3;9,2;86416\\nNordrhein-Westfalen;2014;763213;8,2;9,1;99525\\nNordrhein-Westfalen;2015;744228;8,0;8,8;116396\\nNordrhein-Westfalen;2016;725653;7,7;8,5;134939\\nNordrhein-Westfalen;2017;701219;7,4;8,1;154990\\nNordrhein-Westfalen;2018;650768;6,8;7,4;169997\\nNordrhein-Westfalen;2019;635486;6,5;7,2;163012\\nNordrhein-Westfalen;2020;733740;7,5;8,2;128660\\nNordrhein-Westfalen;2021;718220;7,3;8,0;143458\\nNordrhein-Westfalen;2022;668502;6,8;7,4;169110\\nNordrhein-Westfalen;2023;710175;7,2;7,8;148627\\nNordrhein-Westfalen;2024;749712;7,5;8,1;136188\\nRheinland-Pfalz;2010;119953;5,7;6,4;16944\\nRheinland-Pfalz;2011;111074;5,3;5,9;20988\\nRheinland-Pfalz;2012;111083;5,3;5,9;21513\\nRheinland-Pfalz;2013;116360;5,5;6,1;20154\\nRheinland-Pfalz;2014;115741;5,4;6,0;23602\\nRheinland-Pfalz;2015;112882;5,2;5,8;27760\\nRheinland-Pfalz;2016;111436;5,1;5,6;32997\\nRheinland-Pfalz;2017;106299;4,8;5,3;37936\\nRheinland-Pfalz;2018;98764;4,4;4,9;40467\\nRheinland-Pfalz;2019;97717;4,3;4,8;39492\\nRheinland-Pfalz;2020;117912;5,2;5,7;30971\\nRheinland-Pfalz;2021;112137;5,0;5,4;37337\\nRheinland-Pfalz;2022;102515;4,6;5,0;45781\\nRheinland-Pfalz;2023;110716;4,9;5,3;41871\\nRheinland-Pfalz;2024;120552;5,3;5,7;36985\\nSaarland;2010;37834;7,5;8,2;4256\\nSaarland;2011;34491;6,8;7,4;6057\\nSaarland;2012;34282;6,7;7,3;6121\\nSaarland;2013;37383;7,3;7,9;5854\\nSaarland;2014;36911;7,2;7,8;5734\\nSaarland;2015;36895;7,2;7,7;6443\\nSaarland;2016;37103;7,2;7,7;7182\\nSaarland;2017;34672;6,7;7,2;8145\\nSaarland;2018;32233;6,1;6,6;9513\\nSaarland;2019;32854;6,2;6,7;9093\\nSaarland;2020;38364;7,2;7,8;7586\\nSaarland;2021;36156;6,8;7,4;9272\\nSaarland;2022;33017;6,3;6,8;12104\\nSaarland;2023;35598;6,8;7,3;10929\\nSaarland;2024;37241;7,0;7,6;8827\\nSachsen;2010;253198;11,8;13,1;15034\\nSachsen;2011;226887;10,6;11,8;18847\\nSachsen;2012;207826;9,8;10,9;19241\\nSachsen;2013;200628;9,4;10,5;18249\\nSachsen;2014;187494;8,8;9,9;22721\\nSachsen;2015;174319;8,2;9,2;27444\\nSachsen;2016;157862;7,5;8,3;31818\\nSachsen;2017;140348;6,7;7,4;35934\\nSachsen;2018;126311;6,0;6,6;39164\\nSachsen;2019;116051;5,5;6,0;37853\\nSachsen;2020;128669;6,1;6,7;34755\\nSachsen;2021;124743;5,9;6,5;40143\\nSachsen;2022;118216;5,6;6,1;44523\\nSachsen;2023;131069;6,2;6,8;39492\\nSachsen;2024;139751;6,5;7,1;35109\\nSachsen-Anhalt;2010;151305;12,5;13,5;8229\\nSachsen-Anhalt;2011;139310;11,6;12,5;10700\\nSachsen-Anhalt;2012;136701;11,5;12,4;10930\\nSachsen-Anhalt;2013;132134;11,2;12,1;10806\\nSachsen-Anhalt;2014;125559;10,7;11,6;12451\\nSachsen-Anhalt;2015;118852;10,2;11,1;14597\\nSachsen-Anhalt;2016;110263;9,6;10,4;16554\\nSachsen-Anhalt;2017;96960;8,4;9,2;18555\\nSachsen-Anhalt;2018;88106;7,7;8,4;19541\\nSachsen-Anhalt;2019;80608;7,1;7,7;20104\\nSachsen-Anhalt;2020;86110;7,7;8,2;18777\\nSachsen-Anhalt;2021;81093;7,3;7,8;21004\\nSachsen-Anhalt;2022;77978;7,1;7,6;22617\\nSachsen-Anhalt;2023;82627;7,5;8,0;20665\\nSachsen-Anhalt;2024;84801;7,7;8,2;19977\\nSchleswig-Holstein;2010;107176;7,5;8,5;11548\\nSchleswig-Holstein;2011;103714;7,2;8,2;13857\\nSchleswig-Holstein;2012;100051;6,9;7,7;14989\\nSchleswig-Holstein;2013;101751;6,9;7,8;15028\\nSchleswig-Holstein;2014;100957;6,8;7,6;16853\\nSchleswig-Holstein;2015;97850;6,5;7,3;18174\\nSchleswig-Holstein;2016;94977;6,3;7,0;21482\\nSchleswig-Holstein;2017;92434;6,0;6,7;23615\\nSchleswig-Holstein;2018;85053;5,5;6,1;25196\\nSchleswig-Holstein;2019;79678;5,1;5,6;25377\\nSchleswig-Holstein;2020;92140;5,8;6,5;22063\\nSchleswig-Holstein;2021;88865;5,6;6,2;24775\\nSchleswig-Holstein;2022;81564;5,2;5,7;30287\\nSchleswig-Holstein;2023;87757;5,5;6,0;27340\\nSchleswig-Holstein;2024;92493;5,7;6,3;25405\\nThüringen;2010;117069;9,8;10,9;10732\\nThüringen;2011;104174;8,8;9,8;13699\\nThüringen;2012;99316;8,5;9,4;14694\\nThüringen;2013;95858;8,2;9,1;14141\\nThüringen;2014;90160;7,8;8,6;16776\\nThüringen;2015;85212;7,4;8,2;18248\\nThüringen;2016;77215;6,7;7,4;21028\\nThüringen;2017;68614;6,1;6,6;24085\\nThüringen;2018;62145;5,5;6,0;25916\\nThüringen;2019;59065;5,3;5,7;23411\\nThüringen;2020;66678;6,0;6,5;18211\\nThüringen;2021;62249;5,6;6,1;20242\\nThüringen;2022;58172;5,3;5,8;21308\\nThüringen;2023;64978;5,9;6,4;16586\\nThüringen;2024;68768;6,2;6,8;15139\\n__________\\n\"Quelle: Bundesagentur für Arbeit, Nürnberg\\n\\nAb Januar 2005 sind die Daten über registrierte Arbeitslose\\nder Bundesagentur für Arbeit auf Grund der Zusammenlegung\\nvon Arbeitslosen- und Sozialhilfe mit früheren Daten nicht\\nmehr vergleichbar. Beachten Sie bitte hierzu die\\nInformationen zur Arbeitsmarktstatistik der Bundesagentur\\nfür Arbeit (Code: 13211).\\n\\nGemeldete Arbeitsstellen:\\nAb Berichtsmonat Juli 2010 werden nur noch ungeförderte\\nArbeitsstellen ausgewiesen. Die neue Abgrenzung steht ab\\nJanuar 2000 zur Verfügung.\"\\n© Statistisches Bundesamt (Destatis), 2025\\nStand: 31.10.2025 / 20:34:05\\n'"
      ]
     },
     "execution_count": 174,
     "metadata": {},
     "output_type": "execute_result"
    }
   ],
   "source": [
    "data = response.json()\n",
    "data[\"Object\"][\"Content\"]"
   ]
  },
  {
   "cell_type": "code",
   "execution_count": 175,
   "id": "27a8bbdf",
   "metadata": {},
   "outputs": [],
   "source": [
    "# csv_text ist dein Output aus data[\"Object\"][\"Content\"]\n",
    "csv_text = data[\"Object\"][\"Content\"]\n",
    "df_al = pd.read_csv(io.StringIO(csv_text), sep=';', skiprows=5, engine='python')"
   ]
  },
  {
   "cell_type": "code",
   "execution_count": 176,
   "id": "be1c5c9f",
   "metadata": {},
   "outputs": [],
   "source": [
    "# Alle Spalten außer der ersten (Bundesland) transformieren\n",
    "df_al = df_al.iloc[:,:-3]\n",
    "df_al.columns = [\"Bundesland\", \"Jahr\", \"Arbeitslose\"]\n",
    "df_al = df_al.dropna()\n",
    "\n",
    "df_al[\"Jahr\"] = df_al[\"Jahr\"].round()\n",
    "\n",
    "df_al[\"Jahr\"] = df_al[\"Jahr\"].astype(\"str\").str[:4]\n",
    "df_al = df_al[df_al[\"Bundesland\"] == bl]"
   ]
  },
  {
   "cell_type": "markdown",
   "id": "d8fe685a",
   "metadata": {},
   "source": [
    "### Merge"
   ]
  },
  {
   "cell_type": "code",
   "execution_count": 181,
   "id": "9b1abcb4",
   "metadata": {},
   "outputs": [],
   "source": [
    "df_merge = df1.merge(df_al, how=\"left\", on = [\"Bundesland\", \"Jahr\"])"
   ]
  },
  {
   "cell_type": "code",
   "execution_count": 182,
   "id": "377f300f",
   "metadata": {},
   "outputs": [
    {
     "data": {
      "text/html": [
       "<div>\n",
       "<style scoped>\n",
       "    .dataframe tbody tr th:only-of-type {\n",
       "        vertical-align: middle;\n",
       "    }\n",
       "\n",
       "    .dataframe tbody tr th {\n",
       "        vertical-align: top;\n",
       "    }\n",
       "\n",
       "    .dataframe thead th {\n",
       "        text-align: right;\n",
       "    }\n",
       "</style>\n",
       "<table border=\"1\" class=\"dataframe\">\n",
       "  <thead>\n",
       "    <tr style=\"text-align: right;\">\n",
       "      <th></th>\n",
       "      <th>Bundesland</th>\n",
       "      <th>Jahr</th>\n",
       "      <th>Bevölkerung</th>\n",
       "      <th>Bevölkerung_last_year</th>\n",
       "      <th>Bevölkerung_5_year</th>\n",
       "      <th>Perc_Change1</th>\n",
       "      <th>Perc_Change5</th>\n",
       "      <th>Arbeitslose</th>\n",
       "    </tr>\n",
       "  </thead>\n",
       "  <tbody>\n",
       "    <tr>\n",
       "      <th>0</th>\n",
       "      <td>Sachsen</td>\n",
       "      <td>2010</td>\n",
       "      <td>4149477.0</td>\n",
       "      <td>NaN</td>\n",
       "      <td>NaN</td>\n",
       "      <td>NaN</td>\n",
       "      <td>NaN</td>\n",
       "      <td>253198.0</td>\n",
       "    </tr>\n",
       "    <tr>\n",
       "      <th>1</th>\n",
       "      <td>Sachsen</td>\n",
       "      <td>2011</td>\n",
       "      <td>4054182.0</td>\n",
       "      <td>4149477.0</td>\n",
       "      <td>NaN</td>\n",
       "      <td>-2.30</td>\n",
       "      <td>NaN</td>\n",
       "      <td>226887.0</td>\n",
       "    </tr>\n",
       "    <tr>\n",
       "      <th>2</th>\n",
       "      <td>Sachsen</td>\n",
       "      <td>2012</td>\n",
       "      <td>4050204.0</td>\n",
       "      <td>4054182.0</td>\n",
       "      <td>NaN</td>\n",
       "      <td>-0.10</td>\n",
       "      <td>NaN</td>\n",
       "      <td>207826.0</td>\n",
       "    </tr>\n",
       "    <tr>\n",
       "      <th>3</th>\n",
       "      <td>Sachsen</td>\n",
       "      <td>2013</td>\n",
       "      <td>4046385.0</td>\n",
       "      <td>4050204.0</td>\n",
       "      <td>NaN</td>\n",
       "      <td>-0.09</td>\n",
       "      <td>NaN</td>\n",
       "      <td>200628.0</td>\n",
       "    </tr>\n",
       "    <tr>\n",
       "      <th>4</th>\n",
       "      <td>Sachsen</td>\n",
       "      <td>2014</td>\n",
       "      <td>4055274.0</td>\n",
       "      <td>4046385.0</td>\n",
       "      <td>NaN</td>\n",
       "      <td>0.22</td>\n",
       "      <td>NaN</td>\n",
       "      <td>187494.0</td>\n",
       "    </tr>\n",
       "    <tr>\n",
       "      <th>5</th>\n",
       "      <td>Sachsen</td>\n",
       "      <td>2015</td>\n",
       "      <td>4084851.0</td>\n",
       "      <td>4055274.0</td>\n",
       "      <td>4149477.0</td>\n",
       "      <td>0.73</td>\n",
       "      <td>-1.56</td>\n",
       "      <td>174319.0</td>\n",
       "    </tr>\n",
       "    <tr>\n",
       "      <th>6</th>\n",
       "      <td>Sachsen</td>\n",
       "      <td>2016</td>\n",
       "      <td>4081783.0</td>\n",
       "      <td>4084851.0</td>\n",
       "      <td>4054182.0</td>\n",
       "      <td>-0.08</td>\n",
       "      <td>0.68</td>\n",
       "      <td>157862.0</td>\n",
       "    </tr>\n",
       "    <tr>\n",
       "      <th>7</th>\n",
       "      <td>Sachsen</td>\n",
       "      <td>2017</td>\n",
       "      <td>4081308.0</td>\n",
       "      <td>4081783.0</td>\n",
       "      <td>4050204.0</td>\n",
       "      <td>-0.01</td>\n",
       "      <td>0.77</td>\n",
       "      <td>140348.0</td>\n",
       "    </tr>\n",
       "    <tr>\n",
       "      <th>8</th>\n",
       "      <td>Sachsen</td>\n",
       "      <td>2018</td>\n",
       "      <td>4077937.0</td>\n",
       "      <td>4081308.0</td>\n",
       "      <td>4046385.0</td>\n",
       "      <td>-0.08</td>\n",
       "      <td>0.78</td>\n",
       "      <td>126311.0</td>\n",
       "    </tr>\n",
       "    <tr>\n",
       "      <th>9</th>\n",
       "      <td>Sachsen</td>\n",
       "      <td>2019</td>\n",
       "      <td>4071971.0</td>\n",
       "      <td>4077937.0</td>\n",
       "      <td>4055274.0</td>\n",
       "      <td>-0.15</td>\n",
       "      <td>0.41</td>\n",
       "      <td>116051.0</td>\n",
       "    </tr>\n",
       "    <tr>\n",
       "      <th>10</th>\n",
       "      <td>Sachsen</td>\n",
       "      <td>2020</td>\n",
       "      <td>4056941.0</td>\n",
       "      <td>4071971.0</td>\n",
       "      <td>4084851.0</td>\n",
       "      <td>-0.37</td>\n",
       "      <td>-0.68</td>\n",
       "      <td>128669.0</td>\n",
       "    </tr>\n",
       "    <tr>\n",
       "      <th>11</th>\n",
       "      <td>Sachsen</td>\n",
       "      <td>2021</td>\n",
       "      <td>4043002.0</td>\n",
       "      <td>4056941.0</td>\n",
       "      <td>4081783.0</td>\n",
       "      <td>-0.34</td>\n",
       "      <td>-0.95</td>\n",
       "      <td>124743.0</td>\n",
       "    </tr>\n",
       "    <tr>\n",
       "      <th>12</th>\n",
       "      <td>Sachsen</td>\n",
       "      <td>2022</td>\n",
       "      <td>4049967.0</td>\n",
       "      <td>4043002.0</td>\n",
       "      <td>4081308.0</td>\n",
       "      <td>0.17</td>\n",
       "      <td>-0.77</td>\n",
       "      <td>118216.0</td>\n",
       "    </tr>\n",
       "    <tr>\n",
       "      <th>13</th>\n",
       "      <td>Sachsen</td>\n",
       "      <td>2023</td>\n",
       "      <td>4054689.0</td>\n",
       "      <td>4049967.0</td>\n",
       "      <td>4077937.0</td>\n",
       "      <td>0.12</td>\n",
       "      <td>-0.57</td>\n",
       "      <td>131069.0</td>\n",
       "    </tr>\n",
       "    <tr>\n",
       "      <th>14</th>\n",
       "      <td>Sachsen</td>\n",
       "      <td>2024</td>\n",
       "      <td>4042422.0</td>\n",
       "      <td>4054689.0</td>\n",
       "      <td>4071971.0</td>\n",
       "      <td>-0.30</td>\n",
       "      <td>-0.73</td>\n",
       "      <td>139751.0</td>\n",
       "    </tr>\n",
       "  </tbody>\n",
       "</table>\n",
       "</div>"
      ],
      "text/plain": [
       "   Bundesland  Jahr  Bevölkerung  Bevölkerung_last_year  Bevölkerung_5_year  \\\n",
       "0     Sachsen  2010    4149477.0                    NaN                 NaN   \n",
       "1     Sachsen  2011    4054182.0              4149477.0                 NaN   \n",
       "2     Sachsen  2012    4050204.0              4054182.0                 NaN   \n",
       "3     Sachsen  2013    4046385.0              4050204.0                 NaN   \n",
       "4     Sachsen  2014    4055274.0              4046385.0                 NaN   \n",
       "5     Sachsen  2015    4084851.0              4055274.0           4149477.0   \n",
       "6     Sachsen  2016    4081783.0              4084851.0           4054182.0   \n",
       "7     Sachsen  2017    4081308.0              4081783.0           4050204.0   \n",
       "8     Sachsen  2018    4077937.0              4081308.0           4046385.0   \n",
       "9     Sachsen  2019    4071971.0              4077937.0           4055274.0   \n",
       "10    Sachsen  2020    4056941.0              4071971.0           4084851.0   \n",
       "11    Sachsen  2021    4043002.0              4056941.0           4081783.0   \n",
       "12    Sachsen  2022    4049967.0              4043002.0           4081308.0   \n",
       "13    Sachsen  2023    4054689.0              4049967.0           4077937.0   \n",
       "14    Sachsen  2024    4042422.0              4054689.0           4071971.0   \n",
       "\n",
       "    Perc_Change1  Perc_Change5  Arbeitslose  \n",
       "0            NaN           NaN     253198.0  \n",
       "1          -2.30           NaN     226887.0  \n",
       "2          -0.10           NaN     207826.0  \n",
       "3          -0.09           NaN     200628.0  \n",
       "4           0.22           NaN     187494.0  \n",
       "5           0.73         -1.56     174319.0  \n",
       "6          -0.08          0.68     157862.0  \n",
       "7          -0.01          0.77     140348.0  \n",
       "8          -0.08          0.78     126311.0  \n",
       "9          -0.15          0.41     116051.0  \n",
       "10         -0.37         -0.68     128669.0  \n",
       "11         -0.34         -0.95     124743.0  \n",
       "12          0.17         -0.77     118216.0  \n",
       "13          0.12         -0.57     131069.0  \n",
       "14         -0.30         -0.73     139751.0  "
      ]
     },
     "execution_count": 182,
     "metadata": {},
     "output_type": "execute_result"
    }
   ],
   "source": [
    "df_merge"
   ]
  },
  {
   "cell_type": "code",
   "execution_count": null,
   "id": "8d5267d4",
   "metadata": {},
   "outputs": [],
   "source": []
  },
  {
   "cell_type": "markdown",
   "id": "b84db4da",
   "metadata": {},
   "source": [
    "### ÖPNV"
   ]
  },
  {
   "cell_type": "code",
   "execution_count": 208,
   "id": "cc33e11a",
   "metadata": {},
   "outputs": [],
   "source": [
    "input_adresse = \"Meckenheimer Straße 18B, 67454 Haßloch\""
   ]
  },
  {
   "cell_type": "code",
   "execution_count": 209,
   "id": "46dd8033",
   "metadata": {},
   "outputs": [
    {
     "name": "stdout",
     "output_type": "stream",
     "text": [
      "49.373432 8.2535726\n"
     ]
    }
   ],
   "source": [
    "import requests\n",
    "\n",
    "def geocode(address):\n",
    "    url = \"https://nominatim.openstreetmap.org/search\"\n",
    "    params = {\n",
    "        'q': address,\n",
    "        'format': 'json',\n",
    "        'addressdetails': 1,\n",
    "        'limit': 1\n",
    "    }\n",
    "    headers = {\n",
    "        'User-Agent': 'ImmobilienStandortScore/1.0'\n",
    "    }\n",
    "\n",
    "    r = requests.get(url, params=params, headers=headers)\n",
    "    data = r.json()\n",
    "\n",
    "    if len(data) == 0:\n",
    "        return None\n",
    "    \n",
    "    return float(data[0]['lat']), float(data[0]['lon'])\n",
    "\n",
    "# Beispiel\n",
    "lat, lon = geocode(input_adresse)\n",
    "print(lat, lon)"
   ]
  },
  {
   "cell_type": "code",
   "execution_count": 210,
   "id": "8c4cfe35",
   "metadata": {},
   "outputs": [
    {
     "data": {
      "text/plain": [
       "49.373432"
      ]
     },
     "execution_count": 210,
     "metadata": {},
     "output_type": "execute_result"
    }
   ],
   "source": [
    "lat"
   ]
  },
  {
   "cell_type": "code",
   "execution_count": 211,
   "id": "3e6abff3",
   "metadata": {},
   "outputs": [
    {
     "name": "stdout",
     "output_type": "stream",
     "text": [
      "       type        lat       lon\n",
      "0   station  49.371900  8.252504\n",
      "1  platform  49.372309  8.263223\n",
      "2  platform  49.371049  8.260596\n",
      "3  platform  49.372307  8.253806\n",
      "4  platform  49.368251  8.257849\n",
      "5  platform  49.368160  8.257995\n",
      "6  platform  49.369915  8.250787\n",
      "7  platform  49.371933  8.254901\n",
      "8  platform  49.369867  8.251323\n",
      "9  platform  49.371911  8.255228\n",
      "Anzahl Stationen: 10\n"
     ]
    }
   ],
   "source": [
    "def get_oepnv_dichte(lat, lon, radius=800):\n",
    "    query = f\"\"\"\n",
    "    [out:json][timeout:25];\n",
    "    (\n",
    "      node[\"public_transport\"=\"platform\"](around:{radius},{lat},{lon});\n",
    "      node[\"railway\"=\"station\"](around:{radius},{lat},{lon});\n",
    "      node[\"railway\"=\"halt\"](around:{radius},{lat},{lon});\n",
    "      node[\"railway\"=\"tram_stop\"](around:{radius},{lat},{lon});\n",
    "      node[\"railway\"=\"subway_entrance\"](around:{radius},{lat},{lon});\n",
    "      node[\"highway\"=\"bus_stop\"](around:{radius},{lat},{lon});\n",
    "    );\n",
    "    out body;\n",
    "    \"\"\"\n",
    "    \n",
    "    response = requests.post(\"https://overpass-api.de/api/interpreter\", data=query)\n",
    "    data = response.json()\n",
    "\n",
    "    elements = []\n",
    "    for element in data['elements']:\n",
    "        elements.append({\n",
    "            \"type\": element.get(\"tags\", {}).get(\"public_transport\") or\n",
    "                    element.get(\"tags\", {}).get(\"railway\") or\n",
    "                    element.get(\"tags\", {}).get(\"highway\"),\n",
    "            \"lat\": element[\"lat\"],\n",
    "            \"lon\": element[\"lon\"]\n",
    "        })\n",
    "        \n",
    "    df = pd.DataFrame(elements)\n",
    "    return df\n",
    "\n",
    "\n",
    "stations = get_oepnv_dichte(lat, lon)\n",
    "print(stations)\n",
    "print(\"Anzahl Stationen:\", len(stations))"
   ]
  },
  {
   "cell_type": "code",
   "execution_count": 212,
   "id": "475d928c",
   "metadata": {},
   "outputs": [
    {
     "data": {
      "text/plain": [
       "1"
      ]
     },
     "execution_count": 212,
     "metadata": {},
     "output_type": "execute_result"
    }
   ],
   "source": [
    "len(stations[stations['type'] == 'station'])"
   ]
  },
  {
   "cell_type": "code",
   "execution_count": 184,
   "id": "89a7497d",
   "metadata": {},
   "outputs": [],
   "source": [
    "anzahl_station = len(stations)\n",
    "\n",
    "bus = len(stations[stations['type'] == 'bus_stop'])\n",
    "tram = len(stations[stations['type'] == 'tram_stop'])\n",
    "bahn = len(stations[stations['type'] == 'station'])\n",
    "subway = len(stations[stations['type'] == 'subway_entrance'])"
   ]
  },
  {
   "cell_type": "code",
   "execution_count": 185,
   "id": "8ebef2c0",
   "metadata": {},
   "outputs": [
    {
     "name": "stdout",
     "output_type": "stream",
     "text": [
      "Stationsdichte: 41.778172561622526\n"
     ]
    }
   ],
   "source": [
    "import math\n",
    "\n",
    "def station_density(count, radius):\n",
    "    area_km2 = math.pi * (radius/1000)**2\n",
    "    return count / area_km2\n",
    "\n",
    "density = station_density(len(stations), 800)\n",
    "print(\"Stationsdichte:\", density)"
   ]
  },
  {
   "cell_type": "code",
   "execution_count": null,
   "id": "4cac4465",
   "metadata": {},
   "outputs": [],
   "source": []
  },
  {
   "cell_type": "markdown",
   "id": "b1899e01",
   "metadata": {},
   "source": [
    "### Supermärkte"
   ]
  },
  {
   "cell_type": "code",
   "execution_count": 218,
   "id": "deee8600",
   "metadata": {},
   "outputs": [
    {
     "name": "stdout",
     "output_type": "stream",
     "text": [
      "             name        lat       lon         type\n",
      "0        ALDI Süd  49.365804  8.247450  supermarket\n",
      "1  EDEKA Stiegler  49.367428  8.266383  supermarket\n",
      "2           PENNY  49.367149  8.265148  supermarket\n",
      "3            REWE  49.356419  8.260573  supermarket\n",
      "Anzahl Supermärkte: 4\n"
     ]
    }
   ],
   "source": [
    "def get_supermarkets(lat, lon, radius=800):\n",
    "    query = f\"\"\"\n",
    "    [out:json][timeout:25];\n",
    "    (\n",
    "      node[\"shop\"=\"supermarket\"](around:{radius},{lat},{lon});\n",
    "      node[\"shop\"=\"grocery\"](around:{radius},{lat},{lon});\n",
    "    );\n",
    "    out body;\n",
    "    \"\"\"\n",
    "    \n",
    "    r = requests.post(\"https://overpass-api.de/api/interpreter\", data=query)\n",
    "    data = r.json()\n",
    "\n",
    "    elements = []\n",
    "    for element in data['elements']:\n",
    "        elements.append({\n",
    "            \"name\": element.get(\"tags\", {}).get(\"name\", \"Unknown\"),\n",
    "            \"lat\": element[\"lat\"],\n",
    "            \"lon\": element[\"lon\"],\n",
    "            \"type\": element.get(\"tags\", {}).get(\"shop\")\n",
    "        })\n",
    "    \n",
    "    df = pd.DataFrame(elements)\n",
    "    return df\n",
    "\n",
    "# Beispiel: München Marienplatz\n",
    "df = get_supermarkets(lat, lon, 2000)\n",
    "print(df)\n",
    "print(f\"Anzahl Supermärkte: {len(df)}\")"
   ]
  },
  {
   "cell_type": "code",
   "execution_count": 220,
   "id": "144c187b",
   "metadata": {},
   "outputs": [
    {
     "data": {
      "text/plain": [
       "8.2535726"
      ]
     },
     "execution_count": 220,
     "metadata": {},
     "output_type": "execute_result"
    }
   ],
   "source": [
    "lon"
   ]
  },
  {
   "cell_type": "code",
   "execution_count": null,
   "id": "9fcb02d1",
   "metadata": {},
   "outputs": [],
   "source": []
  }
 ],
 "metadata": {
  "kernelspec": {
   "display_name": "Python 3",
   "language": "python",
   "name": "python3"
  },
  "language_info": {
   "codemirror_mode": {
    "name": "ipython",
    "version": 3
   },
   "file_extension": ".py",
   "mimetype": "text/x-python",
   "name": "python",
   "nbconvert_exporter": "python",
   "pygments_lexer": "ipython3",
   "version": "3.13.7"
  }
 },
 "nbformat": 4,
 "nbformat_minor": 5
}
